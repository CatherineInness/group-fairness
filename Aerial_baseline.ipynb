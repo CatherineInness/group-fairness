{
 "cells": [
  {
   "cell_type": "code",
   "execution_count": null,
   "metadata": {
    "papermill": {
     "duration": 0.008166,
     "end_time": "2020-09-03T13:21:11.289988",
     "exception": false,
     "start_time": "2020-09-03T13:21:11.281822",
     "status": "completed"
    },
    "tags": []
   },
   "outputs": [],
   "source": [
    "##Implemented using guidance from from https://medium.com/analytics-vidhya/pytorch-implementation-of-semantic-segmentation-for-single-class-from-scratch-81f96643c98c"
   ]
  },
  {
   "cell_type": "code",
   "execution_count": 1,
   "metadata": {
    "execution": {
     "iopub.execute_input": "2020-09-03T13:21:11.320816Z",
     "iopub.status.busy": "2020-09-03T13:21:11.317368Z",
     "iopub.status.idle": "2020-09-03T13:21:30.872706Z",
     "shell.execute_reply": "2020-09-03T13:21:30.871664Z"
    },
    "papermill": {
     "duration": 19.575878,
     "end_time": "2020-09-03T13:21:30.872827",
     "exception": false,
     "start_time": "2020-09-03T13:21:11.296949",
     "status": "completed"
    },
    "tags": []
   },
   "outputs": [
    {
     "name": "stdout",
     "output_type": "stream",
     "text": [
      "Collecting segmentation_models_pytorch\r\n",
      "  Downloading segmentation_models_pytorch-0.1.0-py3-none-any.whl (42 kB)\r\n",
      "\u001b[K     |████████████████████████████████| 42 kB 425 kB/s \r\n",
      "\u001b[?25hRequirement already satisfied: torchvision>=0.3.0 in /opt/conda/lib/python3.7/site-packages (from segmentation_models_pytorch) (0.6.0a0+35d732a)\r\n",
      "Collecting efficientnet-pytorch>=0.5.1\r\n",
      "  Downloading efficientnet_pytorch-0.7.0.tar.gz (20 kB)\r\n",
      "Collecting pretrainedmodels==0.7.4\r\n",
      "  Downloading pretrainedmodels-0.7.4.tar.gz (58 kB)\r\n",
      "\u001b[K     |████████████████████████████████| 58 kB 2.4 MB/s \r\n",
      "\u001b[?25hRequirement already satisfied: numpy in /opt/conda/lib/python3.7/site-packages (from torchvision>=0.3.0->segmentation_models_pytorch) (1.18.5)\r\n",
      "Requirement already satisfied: torch in /opt/conda/lib/python3.7/site-packages (from torchvision>=0.3.0->segmentation_models_pytorch) (1.5.1)\r\n",
      "Requirement already satisfied: pillow>=4.1.1 in /opt/conda/lib/python3.7/site-packages (from torchvision>=0.3.0->segmentation_models_pytorch) (7.2.0)\r\n",
      "Requirement already satisfied: munch in /opt/conda/lib/python3.7/site-packages (from pretrainedmodels==0.7.4->segmentation_models_pytorch) (2.5.0)\r\n",
      "Requirement already satisfied: tqdm in /opt/conda/lib/python3.7/site-packages (from pretrainedmodels==0.7.4->segmentation_models_pytorch) (4.45.0)\r\n",
      "Requirement already satisfied: future in /opt/conda/lib/python3.7/site-packages (from torch->torchvision>=0.3.0->segmentation_models_pytorch) (0.18.2)\r\n",
      "Requirement already satisfied: six in /opt/conda/lib/python3.7/site-packages (from munch->pretrainedmodels==0.7.4->segmentation_models_pytorch) (1.14.0)\r\n",
      "Building wheels for collected packages: efficientnet-pytorch, pretrainedmodels\r\n",
      "  Building wheel for efficientnet-pytorch (setup.py) ... \u001b[?25l-\b \b\\\b \bdone\r\n",
      "\u001b[?25h  Created wheel for efficientnet-pytorch: filename=efficientnet_pytorch-0.7.0-py3-none-any.whl size=16035 sha256=d40755bc16853b61ce557a91b3b78dc88396d148e44f534ff2471bcf5a05fadc\r\n",
      "  Stored in directory: /root/.cache/pip/wheels/b7/cc/0d/41d384b0071c6f46e542aded5f8571700ace4f1eb3f1591c29\r\n",
      "  Building wheel for pretrainedmodels (setup.py) ... \u001b[?25l-\b \b\\\b \bdone\r\n",
      "\u001b[?25h  Created wheel for pretrainedmodels: filename=pretrainedmodels-0.7.4-py3-none-any.whl size=60962 sha256=22f71f0bfaa7462525cc05c77f1e177c9004051f2819c2428d34df4c4a4947e3\r\n",
      "  Stored in directory: /root/.cache/pip/wheels/ed/27/e8/9543d42de2740d3544db96aefef63bda3f2c1761b3334f4873\r\n",
      "Successfully built efficientnet-pytorch pretrainedmodels\r\n",
      "Installing collected packages: efficientnet-pytorch, pretrainedmodels, segmentation-models-pytorch\r\n",
      "Successfully installed efficientnet-pytorch-0.7.0 pretrainedmodels-0.7.4 segmentation-models-pytorch-0.1.0\r\n",
      "\u001b[33mWARNING: You are using pip version 20.1.1; however, version 20.2.2 is available.\r\n",
      "You should consider upgrading via the '/opt/conda/bin/python3.7 -m pip install --upgrade pip' command.\u001b[0m\r\n"
     ]
    },
    {
     "data": {
      "text/plain": [
       "<torch._C.Generator at 0x7f4006b3f750>"
      ]
     },
     "execution_count": 1,
     "metadata": {},
     "output_type": "execute_result"
    }
   ],
   "source": [
    "!pip install segmentation_models_pytorch\n",
    "\n",
    "from fastai.vision import *\n",
    "from PIL import Image as PImage\n",
    "import cv2\n",
    "from sklearn.metrics import accuracy_score\n",
    "from sklearn.metrics import confusion_matrix\n",
    "from sklearn.metrics import f1_score\n",
    "from sklearn.metrics import jaccard_score\n",
    "import glob\n",
    "import cv2\n",
    "from matplotlib import pyplot as plt\n",
    "import numpy as np\n",
    "import pandas as pd\n",
    "import torch\n",
    "import torch.nn as nn\n",
    "from torch.nn import functional as F\n",
    "import torch.optim as optim\n",
    "from torch.utils.data import DataLoader, Dataset, sampler\n",
    "from sklearn.model_selection import train_test_split\n",
    "import segmentation_models_pytorch as smp\n",
    "import os\n",
    "#import pdb\n",
    "import time\n",
    "import warnings\n",
    "import random\n",
    "import concurrent.futures\n",
    "# warning print supression\n",
    "warnings.filterwarnings(\"ignore\")\n",
    "\n",
    "seed = 12\n",
    "random.seed(seed)\n",
    "torch.manual_seed(seed)"
   ]
  },
  {
   "cell_type": "code",
   "execution_count": null,
   "metadata": {
    "execution": {
     "iopub.execute_input": "2020-09-03T13:21:31.660938Z",
     "iopub.status.busy": "2020-09-03T13:21:31.660233Z",
     "iopub.status.idle": "2020-09-03T13:21:32.660715Z",
     "shell.execute_reply": "2020-09-03T13:21:32.659804Z"
    },
    "papermill": {
     "duration": 1.018625,
     "end_time": "2020-09-03T13:21:32.660839",
     "exception": false,
     "start_time": "2020-09-03T13:21:31.642214",
     "status": "completed"
    },
    "tags": []
   },
   "outputs": [],
   "source": [
    "# List of images\n",
    "ims = glob.glob('/input/opencitiestrain/data/images-256/*.png')\n",
    "df = pd.DataFrame({\n",
    "    'img_path':ims,\n",
    "    'mask_path':[im.replace('images', 'masks').replace('.png', '_mask.png') for im in ims],\n",
    "    'valid':False\n",
    "})\n",
    "# Add columns\n",
    "df['img_id'] = df['img_path'].apply(lambda x: x.split('/input/opencitiestrain/data/images-256/')[1].split(\".png\")[0])\n",
    "df['scene_id'] = df['img_path'].apply(lambda x: x.split(\"_\")[1])\n",
    "df['area'] = df['img_path'].apply(lambda x: x.split(\"_\")[0].split(\"/\")[-1])\n",
    "df['prot'] = 0\n",
    "df.loc[df['area'] == 'dar', 'prot'] = 1"
   ]
  },
  {
   "cell_type": "code",
   "execution_count": 4,
   "metadata": {
    "execution": {
     "iopub.execute_input": "2020-09-03T13:21:32.684385Z",
     "iopub.status.busy": "2020-09-03T13:21:32.683704Z",
     "iopub.status.idle": "2020-09-03T13:21:32.695298Z",
     "shell.execute_reply": "2020-09-03T13:21:32.694784Z"
    },
    "papermill": {
     "duration": 0.026039,
     "end_time": "2020-09-03T13:21:32.695401",
     "exception": false,
     "start_time": "2020-09-03T13:21:32.669362",
     "status": "completed"
    },
    "tags": []
   },
   "outputs": [],
   "source": [
    "# Set random validation set\n",
    "df.loc[df.sample(n=5000, random_state=39).index, 'valid'] = 'True'"
   ]
  },
  {
   "cell_type": "code",
   "execution_count": 6,
   "metadata": {
    "execution": {
     "iopub.execute_input": "2020-09-03T13:21:32.756925Z",
     "iopub.status.busy": "2020-09-03T13:21:32.755946Z",
     "iopub.status.idle": "2020-09-03T13:21:32.766460Z",
     "shell.execute_reply": "2020-09-03T13:21:32.765891Z"
    },
    "papermill": {
     "duration": 0.026731,
     "end_time": "2020-09-03T13:21:32.766554",
     "exception": false,
     "start_time": "2020-09-03T13:21:32.739823",
     "status": "completed"
    },
    "tags": []
   },
   "outputs": [],
   "source": [
    "df_valid = df[df.valid == 'True']\n",
    "df_train = df[df.valid != 'True']"
   ]
  },
  {
   "cell_type": "code",
   "execution_count": 9,
   "metadata": {
    "execution": {
     "iopub.execute_input": "2020-09-03T13:21:32.865603Z",
     "iopub.status.busy": "2020-09-03T13:21:32.858886Z",
     "iopub.status.idle": "2020-09-03T13:29:52.304824Z",
     "shell.execute_reply": "2020-09-03T13:29:52.303533Z"
    },
    "papermill": {
     "duration": 499.467515,
     "end_time": "2020-09-03T13:29:52.304953",
     "exception": false,
     "start_time": "2020-09-03T13:21:32.837438",
     "status": "completed"
    },
    "tags": []
   },
   "outputs": [],
   "source": [
    "# Convert the high resolution image mask to 128*128\n",
    "!mkdir train_masks-128\n",
    "def resize_mask(fn):\n",
    "    PIL.Image.open('/input/opencitiestrain/data/masks-256/' + fn + '_mask.png').resize((128,128), resample=PIL.Image.NEAREST).save('train_masks-128/' + fn + '_mask.png')\n",
    "\n",
    "files = list(df['img_id'])\n",
    "with concurrent.futures.ThreadPoolExecutor(8) as e: e.map(resize_mask, files)\n",
    "\n",
    "# # # Convert the high resolution input image to 128*128\n",
    "!mkdir train-128\n",
    "def resize_img(fn):\n",
    "    PIL.Image.open('/input/opencitiestrain/data/images-256/' + fn + '.png').resize((128,128)).save('train-128/' + fn + '.png')\n",
    "\n",
    "files = list(df['img_id'])\n",
    "with concurrent.futures.ThreadPoolExecutor(8) as e: e.map(resize_img, files)"
   ]
  },
  {
   "cell_type": "code",
   "execution_count": 10,
   "metadata": {
    "execution": {
     "iopub.execute_input": "2020-09-03T13:29:52.329315Z",
     "iopub.status.busy": "2020-09-03T13:29:52.327316Z",
     "iopub.status.idle": "2020-09-03T13:29:52.329998Z",
     "shell.execute_reply": "2020-09-03T13:29:52.330495Z"
    },
    "papermill": {
     "duration": 0.016591,
     "end_time": "2020-09-03T13:29:52.330621",
     "exception": false,
     "start_time": "2020-09-03T13:29:52.314030",
     "status": "completed"
    },
    "tags": []
   },
   "outputs": [],
   "source": [
    "# location of original and mask image\n",
    "img_fol='train-128/'\n",
    "mask_fol='train_masks-128/'\n",
    "# imagenet mean/std will be used as the resnet backbone is trained on imagenet stats\n",
    "mean, std=(0.485, 0.456, 0.406),(0.229, 0.224, 0.225)"
   ]
  },
  {
   "cell_type": "code",
   "execution_count": 11,
   "metadata": {
    "execution": {
     "iopub.execute_input": "2020-09-03T13:29:52.361542Z",
     "iopub.status.busy": "2020-09-03T13:29:52.360004Z",
     "iopub.status.idle": "2020-09-03T13:29:52.362692Z",
     "shell.execute_reply": "2020-09-03T13:29:52.363237Z"
    },
    "papermill": {
     "duration": 0.024392,
     "end_time": "2020-09-03T13:29:52.363354",
     "exception": false,
     "start_time": "2020-09-03T13:29:52.338962",
     "status": "completed"
    },
    "tags": []
   },
   "outputs": [],
   "source": [
    "'''when dataloader request for samples using index it fetches input image and target mask,\n",
    "apply transformation and returns it'''\n",
    "class ImgDataset(Dataset):\n",
    "    def __init__(self,df,img_fol,mask_fol,mean,std,phase):\n",
    "        self.fname=df['img_id'].values.tolist()\n",
    "        self.prot=df['prot'].values.tolist()\n",
    "        self.img_fol=img_fol\n",
    "        self.mask_fol=mask_fol\n",
    "        self.mean=mean\n",
    "        self.std=std\n",
    "        self.phase=phase\n",
    "    def __getitem__(self, idx):\n",
    "        name=self.fname[idx]\n",
    "        prot=self.prot[idx] \n",
    "        prot_tensor = torch.Tensor(128)\n",
    "        prot_tensor = prot_tensor.fill_(prot)\n",
    "        img_name_path=os.path.join(self.img_fol,name)\n",
    "        img_name_path = img_name_path + '.png'\n",
    "        mask_name_path=img_name_path.split('.')[0].replace('train-128','train_masks-128')+'_mask.png'\n",
    "        img=cv2.imread(img_name_path)\n",
    "        mask=cv2.imread(mask_name_path,cv2.IMREAD_GRAYSCALE)\n",
    "        mask = mask.transpose()\n",
    "        #convert to binary mask\n",
    "        mask = mask/255\n",
    "        mask = np.expand_dims(mask, axis=0)\n",
    "        img = img.transpose()\n",
    "        return img, mask, prot_tensor, name\n",
    "\n",
    "    def __len__(self):\n",
    "        return len(self.fname)"
   ]
  },
  {
   "cell_type": "code",
   "execution_count": 12,
   "metadata": {
    "execution": {
     "iopub.execute_input": "2020-09-03T13:29:52.387819Z",
     "iopub.status.busy": "2020-09-03T13:29:52.385877Z",
     "iopub.status.idle": "2020-09-03T13:29:52.388558Z",
     "shell.execute_reply": "2020-09-03T13:29:52.389037Z"
    },
    "papermill": {
     "duration": 0.017237,
     "end_time": "2020-09-03T13:29:52.389167",
     "exception": false,
     "start_time": "2020-09-03T13:29:52.371930",
     "status": "completed"
    },
    "tags": []
   },
   "outputs": [],
   "source": [
    "def ImgDataloader(df_train,df_valid,img_fol,mask_fol,mean,std,phase,batch_size):\n",
    "    df = df_train if phase=='train' else df_valid\n",
    "    for_loader=ImgDataset(df, img_fol, mask_fol, mean, std, phase)\n",
    "    dataloader=DataLoader(for_loader, batch_size=batch_size, pin_memory = False)\n",
    "\n",
    "    return dataloader"
   ]
  },
  {
   "cell_type": "code",
   "execution_count": 14,
   "metadata": {
    "execution": {
     "iopub.execute_input": "2020-09-03T13:29:54.863545Z",
     "iopub.status.busy": "2020-09-03T13:29:54.849498Z",
     "iopub.status.idle": "2020-09-03T13:29:54.866267Z",
     "shell.execute_reply": "2020-09-03T13:29:54.865729Z"
    },
    "papermill": {
     "duration": 0.038337,
     "end_time": "2020-09-03T13:29:54.866362",
     "exception": false,
     "start_time": "2020-09-03T13:29:54.828025",
     "status": "completed"
    },
    "tags": []
   },
   "outputs": [],
   "source": [
    "class Trainer(object):\n",
    "    def __init__(self,model):\n",
    "        self.num_workers=4\n",
    "        self.batch_size={'train':64, 'val':1}\n",
    "        self.accumulation_steps= 1\n",
    "        self.lr=0.01\n",
    "        self.num_epochs=20\n",
    "        self.phases=['train','val']\n",
    "        self.best_loss=float('inf')\n",
    "        self.device=torch.device(\"cuda:0\")\n",
    "        torch.set_default_tensor_type(\"torch.cuda.FloatTensor\")\n",
    "        self.net=model.to(self.device)\n",
    "        self.criterion=torch.nn.BCEWithLogitsLoss()\n",
    "        self.optimizer=optim.Adam(self.net.parameters(),lr=self.lr)\n",
    "        self.dataloaders={phase: ImgDataloader(df_train, df_valid, img_fol,\n",
    "                                               mask_fol, mean, std,\n",
    "                                               phase=phase,batch_size=self.batch_size[phase]) for phase in self.phases}\n",
    "\n",
    "        self.losses={phase:[] for phase in self.phases}\n",
    "        self.jacc_score={phase:[] for phase in self.phases}\n",
    "\n",
    "    def forward(self, inp_images, tar_mask):\n",
    "        inp_images=inp_images.float()  \n",
    "        inp_images=inp_images.to(self.device)\n",
    "        tar_mask=tar_mask.to(self.device)\n",
    "        tar_mask=tar_mask.float()\n",
    "        pred_mask=self.net(inp_images)\n",
    "        loss=self.criterion(pred_mask,tar_mask)\n",
    "        return loss, pred_mask\n",
    "\n",
    "    def iterate(self, epoch, phase):\n",
    "        start=time.strftime(\"%H:%M:%S\")\n",
    "        print (f\"Starting epoch: {epoch} | phase:{phase} | Start Time: {start}\")\n",
    "        batch_size=self.batch_size[phase]\n",
    "        self.net.train(phase==\"train\")\n",
    "        dataloader=self.dataloaders[phase]\n",
    "        running_loss=0.0\n",
    "        total_batches=len(dataloader)\n",
    "        self.optimizer.zero_grad()\n",
    "        for itr,batch in enumerate(dataloader):\n",
    "            images,mask_target,prot, name =batch\n",
    "            loss, pred_mask=self.forward(images,mask_target)\n",
    "            loss=loss/self.accumulation_steps\n",
    "            if phase=='train':\n",
    "                loss.backward()\n",
    "                self.optimizer.step()\n",
    "                self.optimizer.zero_grad()\n",
    "            running_loss+=loss.item()\n",
    "            pred_mask=pred_mask.detach().cpu()\n",
    "        epoch_loss=(running_loss*self.accumulation_steps)/total_batches\n",
    "        print(\"Loss: \", epoch_loss)\n",
    "        self.losses[phase].append(epoch_loss)\n",
    "        torch.cuda.empty_cache()\n",
    "        return epoch_loss\n",
    "    def start(self):\n",
    "        for epoch in range (self.num_epochs):\n",
    "            self.iterate(epoch,\"train\")\n",
    "            state = {\n",
    "                \"epoch\": epoch,\n",
    "                \"best_loss\": self.best_loss,\n",
    "                \"state_dict\": self.net.state_dict(),\n",
    "                \"optimizer\": self.optimizer.state_dict(),\n",
    "            }\n",
    "            with torch.no_grad():\n",
    "                val_loss=self.iterate(epoch,\"val\")\n",
    "            if val_loss < self.best_loss:\n",
    "                print(\"******** New optimal found, saving state ********\")\n",
    "                state[\"best_loss\"] = self.best_loss = val_loss\n",
    "                torch.save(state, \"./model_office.pth\")\n",
    "            print ()"
   ]
  },
  {
   "cell_type": "code",
   "execution_count": 15,
   "metadata": {
    "execution": {
     "iopub.execute_input": "2020-09-03T13:29:54.889626Z",
     "iopub.status.busy": "2020-09-03T13:29:54.888808Z",
     "iopub.status.idle": "2020-09-03T14:06:10.438531Z",
     "shell.execute_reply": "2020-09-03T14:06:10.439230Z"
    },
    "papermill": {
     "duration": 2175.56413,
     "end_time": "2020-09-03T14:06:10.439399",
     "exception": false,
     "start_time": "2020-09-03T13:29:54.875269",
     "status": "completed"
    },
    "tags": []
   },
   "outputs": [
    {
     "name": "stdout",
     "output_type": "stream",
     "text": [
      "Starting epoch: 0 | phase:train | Start Time: 13:30:00\n",
      "Loss:  0.17692205568461894\n",
      "Starting epoch: 0 | phase:val | Start Time: 13:31:07\n",
      "Loss:  0.1752648038152593\n",
      "******** New optimal found, saving state ********\n",
      "\n",
      "Starting epoch: 1 | phase:train | Start Time: 13:31:52\n",
      "Loss:  0.15214529031842844\n",
      "Starting epoch: 1 | phase:val | Start Time: 13:32:56\n",
      "Loss:  0.17262937933788822\n",
      "******** New optimal found, saving state ********\n",
      "\n",
      "Starting epoch: 2 | phase:train | Start Time: 13:33:40\n",
      "Loss:  0.1441404591106467\n",
      "Starting epoch: 2 | phase:val | Start Time: 13:34:44\n",
      "Loss:  0.13470930686246413\n",
      "******** New optimal found, saving state ********\n",
      "\n",
      "Starting epoch: 3 | phase:train | Start Time: 13:35:28\n",
      "Loss:  0.1354131658155074\n",
      "Starting epoch: 3 | phase:val | Start Time: 13:36:32\n",
      "Loss:  0.1571803093854042\n",
      "\n",
      "Starting epoch: 4 | phase:train | Start Time: 13:37:15\n",
      "Loss:  0.12768245094113334\n",
      "Starting epoch: 4 | phase:val | Start Time: 13:38:19\n",
      "Loss:  0.14522395075756767\n",
      "\n",
      "Starting epoch: 5 | phase:train | Start Time: 13:39:03\n",
      "Loss:  0.12310291381226372\n",
      "Starting epoch: 5 | phase:val | Start Time: 13:40:06\n",
      "Loss:  0.1290776586361245\n",
      "******** New optimal found, saving state ********\n",
      "\n",
      "Starting epoch: 6 | phase:train | Start Time: 13:40:51\n",
      "Loss:  0.11514589822886326\n",
      "Starting epoch: 6 | phase:val | Start Time: 13:41:54\n",
      "Loss:  0.13441224789770848\n",
      "\n",
      "Starting epoch: 7 | phase:train | Start Time: 13:42:39\n",
      "Loss:  0.11331768414562511\n",
      "Starting epoch: 7 | phase:val | Start Time: 13:43:42\n",
      "Loss:  0.1289916579128439\n",
      "******** New optimal found, saving state ********\n",
      "\n",
      "Starting epoch: 8 | phase:train | Start Time: 13:44:26\n",
      "Loss:  0.10818116552487682\n",
      "Starting epoch: 8 | phase:val | Start Time: 13:45:29\n",
      "Loss:  0.11963083845651044\n",
      "******** New optimal found, saving state ********\n",
      "\n",
      "Starting epoch: 9 | phase:train | Start Time: 13:46:13\n",
      "Loss:  0.10518171489750806\n",
      "Starting epoch: 9 | phase:val | Start Time: 13:47:17\n",
      "Loss:  0.11287499951833613\n",
      "******** New optimal found, saving state ********\n",
      "\n",
      "Starting epoch: 10 | phase:train | Start Time: 13:48:01\n",
      "Loss:  0.10297566831521562\n",
      "Starting epoch: 10 | phase:val | Start Time: 13:49:04\n",
      "Loss:  0.10418342683361932\n",
      "******** New optimal found, saving state ********\n",
      "\n",
      "Starting epoch: 11 | phase:train | Start Time: 13:49:49\n",
      "Loss:  0.10002160420532488\n",
      "Starting epoch: 11 | phase:val | Start Time: 13:50:52\n",
      "Loss:  0.12227912571715137\n",
      "\n",
      "Starting epoch: 12 | phase:train | Start Time: 13:51:38\n",
      "Loss:  0.09670332508142461\n",
      "Starting epoch: 12 | phase:val | Start Time: 13:52:41\n",
      "Loss:  0.12495409260129103\n",
      "\n",
      "Starting epoch: 13 | phase:train | Start Time: 13:53:26\n",
      "Loss:  0.09569789251613453\n",
      "Starting epoch: 13 | phase:val | Start Time: 13:54:29\n",
      "Loss:  0.11593069078801299\n",
      "\n",
      "Starting epoch: 14 | phase:train | Start Time: 13:55:14\n",
      "Loss:  0.09506698734930291\n",
      "Starting epoch: 14 | phase:val | Start Time: 13:56:18\n",
      "Loss:  0.0992553024694367\n",
      "******** New optimal found, saving state ********\n",
      "\n",
      "Starting epoch: 15 | phase:train | Start Time: 13:57:03\n",
      "Loss:  0.09088935217855312\n",
      "Starting epoch: 15 | phase:val | Start Time: 13:58:08\n",
      "Loss:  0.10216808553048438\n",
      "\n",
      "Starting epoch: 16 | phase:train | Start Time: 13:58:52\n",
      "Loss:  0.0867398792039283\n",
      "Starting epoch: 16 | phase:val | Start Time: 13:59:56\n",
      "Loss:  0.09877343423488476\n",
      "******** New optimal found, saving state ********\n",
      "\n",
      "Starting epoch: 17 | phase:train | Start Time: 14:00:42\n",
      "Loss:  0.08485930295232236\n",
      "Starting epoch: 17 | phase:val | Start Time: 14:01:46\n",
      "Loss:  0.10069566360624191\n",
      "\n",
      "Starting epoch: 18 | phase:train | Start Time: 14:02:31\n",
      "Loss:  0.08391536911789495\n",
      "Starting epoch: 18 | phase:val | Start Time: 14:03:35\n",
      "Loss:  0.09991023987179248\n",
      "\n",
      "Starting epoch: 19 | phase:train | Start Time: 14:04:20\n",
      "Loss:  0.08085297674094279\n",
      "Starting epoch: 19 | phase:val | Start Time: 14:05:25\n",
      "Loss:  0.1103938966153765\n",
      "\n"
     ]
    }
   ],
   "source": [
    "# Train the baseline model\n",
    "device = torch.device(\"cuda\")\n",
    "model = smp.Unet(\"resnet18\", encoder_weights=None, classes=1, activation=None)\n",
    "model.to(device)\n",
    "model_trainer = Trainer(model)\n",
    "model_trainer.start()"
   ]
  },
  {
   "cell_type": "code",
   "execution_count": 16,
   "metadata": {
    "execution": {
     "iopub.execute_input": "2020-09-03T14:06:10.480649Z",
     "iopub.status.busy": "2020-09-03T14:06:10.479685Z",
     "iopub.status.idle": "2020-09-03T14:07:00.500602Z",
     "shell.execute_reply": "2020-09-03T14:07:00.499330Z"
    },
    "papermill": {
     "duration": 50.048787,
     "end_time": "2020-09-03T14:07:00.500727",
     "exception": false,
     "start_time": "2020-09-03T14:06:10.451940",
     "status": "completed"
    },
    "tags": []
   },
   "outputs": [],
   "source": [
    "# Run the model on the validation set\n",
    "test_dataloader=ImgDataloader(df_train, df_valid,img_fol,mask_fol,mean,std,'val',1)\n",
    "\n",
    "ckpt_path='model_office.pth'\n",
    "\n",
    "device = torch.device(\"cuda\")\n",
    "model = smp.Unet(\"resnet18\", encoder_weights=None, classes=1, activation=None)\n",
    "model.to(device)\n",
    "model.eval()\n",
    "state = torch.load(ckpt_path, map_location=lambda storage, loc: storage)\n",
    "model.load_state_dict(state[\"state_dict\"])\n",
    "\n",
    "# save the validation predictions and masks into an array\n",
    "predictions = []\n",
    "probs = []\n",
    "masks = []\n",
    "prots = []\n",
    "names = []\n",
    "for i, batch in enumerate(test_dataloader):\n",
    "    images,mask_target, prot, name = batch\n",
    "    images, mask_target = images.to(device), mask_target.to(device)\n",
    "    images = images.float()\n",
    "    batch_probs = torch.sigmoid(model(images))\n",
    "    batch_preds = torch.round(batch_probs)\n",
    "    batch_preds = batch_preds.detach().cpu().numpy()\n",
    "    batch_probs = batch_probs.detach().cpu().numpy()\n",
    "    predictions.append(batch_preds)\n",
    "    probs.append(batch_probs)\n",
    "    mask = mask_target.detach().cpu().numpy()\n",
    "    masks.append(mask)\n",
    "    names.append(name)\n",
    "    prot_flat = np.full_like((predictions[0].flatten()), prot[0][0].cpu())\n",
    "    prots.append(prot_flat)"
   ]
  },
  {
   "cell_type": "code",
   "execution_count": 19,
   "metadata": {
    "execution": {
     "iopub.execute_input": "2020-09-03T14:07:00.601254Z",
     "iopub.status.busy": "2020-09-03T14:07:00.600547Z",
     "iopub.status.idle": "2020-09-03T14:07:01.017157Z",
     "shell.execute_reply": "2020-09-03T14:07:01.016591Z"
    },
    "papermill": {
     "duration": 0.438117,
     "end_time": "2020-09-03T14:07:01.017274",
     "exception": false,
     "start_time": "2020-09-03T14:07:00.579157",
     "status": "completed"
    },
    "tags": []
   },
   "outputs": [
    {
     "data": {
      "image/png": "[encoded data removed]",
      "text/plain": [
       "<Figure size 1080x360 with 2 Axes>"
      ]
     },
     "metadata": {
      "needs_background": "light"
     },
     "output_type": "display_data"
    }
   ],
   "source": [
    "# Visualise some results\n",
    "fig, (ax1,ax2)=plt.subplots(1,2,figsize=(15,5))\n",
    "fig.suptitle('                Ground Truth Mask                                                 Predicted Mask')\n",
    "orig_array = np.reshape(masks[4672], (128,128))\n",
    "orig_array = np.round(orig_array)\n",
    "orig_array = np.rot90(orig_array, k=3)\n",
    "orig_array = np.flip(orig_array, axis=1)\n",
    "ax1.imshow(np.squeeze(orig_array),cmap='gray')\n",
    "pred_array = np.reshape(predictions[4672], (128,128))\n",
    "pred_array = np.round(pred_array)\n",
    "pred_array = np.rot90(pred_array, k=3)\n",
    "pred_array = np.flip(pred_array, axis=1)\n",
    "ax2.imshow(np.squeeze(pred_array),cmap='gray')\n",
    "plt.show()"
   ]
  },
  {
   "cell_type": "code",
   "execution_count": 23,
   "metadata": {
    "execution": {
     "iopub.execute_input": "2020-09-03T14:12:12.590025Z",
     "iopub.status.busy": "2020-09-03T14:12:12.588435Z",
     "iopub.status.idle": "2020-09-03T14:12:12.590917Z",
     "shell.execute_reply": "2020-09-03T14:12:12.591402Z"
    },
    "papermill": {
     "duration": 0.019773,
     "end_time": "2020-09-03T14:12:12.591514",
     "exception": false,
     "start_time": "2020-09-03T14:12:12.571741",
     "status": "completed"
    },
    "tags": []
   },
   "outputs": [],
   "source": [
    "# Save results to csv for input into the post-processing model\n",
    "\n",
    "preds_list = np.vstack(predictions)\n",
    "preds_list = preds_list.flatten()\n",
    "\n",
    "prots_list = np.vstack(prots)\n",
    "prots_list = prots_list.flatten()\n",
    "\n",
    "masks_list = np.vstack(masks)\n",
    "masks_list = masks_list.flatten()\n",
    "\n",
    "probs_list = np.vstack(probs)\n",
    "probs_list = probs_list.flatten()\n",
    "\n",
    "data = np.concatenate((np.expand_dims(probs_list, 1), np.expand_dims(masks_list, 1), np.expand_dims(prots_list, 1)), axis=1)\n",
    "\n",
    "test_and_val_data = pd.DataFrame(data=data, columns = ['prediction','label', 'group'])\n",
    "\n",
    "print(test_and_val_data.head())\n",
    "\n",
    "test_and_val_data.to_csv('test_and_val_data.csv',encoding='utf-8', columns=['prediction','label', 'group'], index=False)\n",
    "\n",
    "names_df = pd.DataFrame(data=names, columns = ['name'])\n",
    "names_df.to_csv('names')"
   ]
  }
 ],
 "metadata": {
  "kernelspec": {
   "display_name": "Python 3",
   "language": "python",
   "name": "python3"
  },
  "language_info": {
   "codemirror_mode": {
    "name": "ipython",
    "version": 3
   },
   "file_extension": ".py",
   "mimetype": "text/x-python",
   "name": "python",
   "nbconvert_exporter": "python",
   "pygments_lexer": "ipython3",
   "version": "3.7.1"
  },
  "papermill": {
   "duration": 3066.302083,
   "end_time": "2020-09-03T14:12:13.145233",
   "environment_variables": {},
   "exception": null,
   "input_path": "__notebook__.ipynb",
   "output_path": "__notebook__.ipynb",
   "parameters": {},
   "start_time": "2020-09-03T13:21:06.843150",
   "version": "2.1.0"
  },
  "widgets": {
   "application/vnd.jupyter.widget-state+json": {
    "state": {
     "1d9af39d3ca84a51ae6adea29a8d8891": {
      "model_module": "@jupyter-widgets/base",
      "model_module_version": "1.2.0",
      "model_name": "LayoutModel",
      "state": {
       "_model_module": "@jupyter-widgets/base",
       "_model_module_version": "1.2.0",
       "_model_name": "LayoutModel",
       "_view_count": null,
       "_view_module": "@jupyter-widgets/base",
       "_view_module_version": "1.2.0",
       "_view_name": "LayoutView",
       "align_content": null,
       "align_items": null,
       "align_self": null,
       "border": null,
       "bottom": null,
       "display": null,
       "flex": null,
       "flex_flow": null,
       "grid_area": null,
       "grid_auto_columns": null,
       "grid_auto_flow": null,
       "grid_auto_rows": null,
       "grid_column": null,
       "grid_gap": null,
       "grid_row": null,
       "grid_template_areas": null,
       "grid_template_columns": null,
       "grid_template_rows": null,
       "height": null,
       "justify_content": null,
       "justify_items": null,
       "left": null,
       "margin": null,
       "max_height": null,
       "max_width": null,
       "min_height": null,
       "min_width": null,
       "object_fit": null,
       "object_position": null,
       "order": null,
       "overflow": null,
       "overflow_x": null,
       "overflow_y": null,
       "padding": null,
       "right": null,
       "top": null,
       "visibility": null,
       "width": null
      }
     },
     "251ff5cfadac443998cfe605d2d02b83": {
      "model_module": "@jupyter-widgets/base",
      "model_module_version": "1.2.0",
      "model_name": "LayoutModel",
      "state": {
       "_model_module": "@jupyter-widgets/base",
       "_model_module_version": "1.2.0",
       "_model_name": "LayoutModel",
       "_view_count": null,
       "_view_module": "@jupyter-widgets/base",
       "_view_module_version": "1.2.0",
       "_view_name": "LayoutView",
       "align_content": null,
       "align_items": null,
       "align_self": null,
       "border": null,
       "bottom": null,
       "display": null,
       "flex": null,
       "flex_flow": null,
       "grid_area": null,
       "grid_auto_columns": null,
       "grid_auto_flow": null,
       "grid_auto_rows": null,
       "grid_column": null,
       "grid_gap": null,
       "grid_row": null,
       "grid_template_areas": null,
       "grid_template_columns": null,
       "grid_template_rows": null,
       "height": null,
       "justify_content": null,
       "justify_items": null,
       "left": null,
       "margin": null,
       "max_height": null,
       "max_width": null,
       "min_height": null,
       "min_width": null,
       "object_fit": null,
       "object_position": null,
       "order": null,
       "overflow": null,
       "overflow_x": null,
       "overflow_y": null,
       "padding": null,
       "right": null,
       "top": null,
       "visibility": null,
       "width": null
      }
     },
     "57e41598d5044732b69baf7c1bd58c4b": {
      "model_module": "@jupyter-widgets/controls",
      "model_module_version": "1.5.0",
      "model_name": "DescriptionStyleModel",
      "state": {
       "_model_module": "@jupyter-widgets/controls",
       "_model_module_version": "1.5.0",
       "_model_name": "DescriptionStyleModel",
       "_view_count": null,
       "_view_module": "@jupyter-widgets/base",
       "_view_module_version": "1.2.0",
       "_view_name": "StyleView",
       "description_width": ""
      }
     },
     "6323562cb2334f9a821829d08c02322e": {
      "model_module": "@jupyter-widgets/base",
      "model_module_version": "1.2.0",
      "model_name": "LayoutModel",
      "state": {
       "_model_module": "@jupyter-widgets/base",
       "_model_module_version": "1.2.0",
       "_model_name": "LayoutModel",
       "_view_count": null,
       "_view_module": "@jupyter-widgets/base",
       "_view_module_version": "1.2.0",
       "_view_name": "LayoutView",
       "align_content": null,
       "align_items": null,
       "align_self": null,
       "border": null,
       "bottom": null,
       "display": null,
       "flex": null,
       "flex_flow": null,
       "grid_area": null,
       "grid_auto_columns": null,
       "grid_auto_flow": null,
       "grid_auto_rows": null,
       "grid_column": null,
       "grid_gap": null,
       "grid_row": null,
       "grid_template_areas": null,
       "grid_template_columns": null,
       "grid_template_rows": null,
       "height": null,
       "justify_content": null,
       "justify_items": null,
       "left": null,
       "margin": null,
       "max_height": null,
       "max_width": null,
       "min_height": null,
       "min_width": null,
       "object_fit": null,
       "object_position": null,
       "order": null,
       "overflow": null,
       "overflow_x": null,
       "overflow_y": null,
       "padding": null,
       "right": null,
       "top": null,
       "visibility": null,
       "width": null
      }
     },
     "76c5b66588c941faa34f5ffffe4f887e": {
      "model_module": "@jupyter-widgets/controls",
      "model_module_version": "1.5.0",
      "model_name": "HTMLModel",
      "state": {
       "_dom_classes": [],
       "_model_module": "@jupyter-widgets/controls",
       "_model_module_version": "1.5.0",
       "_model_name": "HTMLModel",
       "_view_count": null,
       "_view_module": "@jupyter-widgets/controls",
       "_view_module_version": "1.5.0",
       "_view_name": "HTMLView",
       "description": "",
       "description_tooltip": null,
       "layout": "IPY_MODEL_1d9af39d3ca84a51ae6adea29a8d8891",
       "placeholder": "​",
       "style": "IPY_MODEL_57e41598d5044732b69baf7c1bd58c4b",
       "value": " 44.7M/44.7M [00:02&lt;00:00, 22.8MB/s]"
      }
     },
     "80c3670477b149fda5d83803a38ec437": {
      "model_module": "@jupyter-widgets/controls",
      "model_module_version": "1.5.0",
      "model_name": "FloatProgressModel",
      "state": {
       "_dom_classes": [],
       "_model_module": "@jupyter-widgets/controls",
       "_model_module_version": "1.5.0",
       "_model_name": "FloatProgressModel",
       "_view_count": null,
       "_view_module": "@jupyter-widgets/controls",
       "_view_module_version": "1.5.0",
       "_view_name": "ProgressView",
       "bar_style": "success",
       "description": "100%",
       "description_tooltip": null,
       "layout": "IPY_MODEL_251ff5cfadac443998cfe605d2d02b83",
       "max": 46827520,
       "min": 0,
       "orientation": "horizontal",
       "style": "IPY_MODEL_f6da5cb75e984dd99fb732a54e571004",
       "value": 46827520
      }
     },
     "e1a90d5579ad42fc841c03188f204b3e": {
      "model_module": "@jupyter-widgets/controls",
      "model_module_version": "1.5.0",
      "model_name": "HBoxModel",
      "state": {
       "_dom_classes": [],
       "_model_module": "@jupyter-widgets/controls",
       "_model_module_version": "1.5.0",
       "_model_name": "HBoxModel",
       "_view_count": null,
       "_view_module": "@jupyter-widgets/controls",
       "_view_module_version": "1.5.0",
       "_view_name": "HBoxView",
       "box_style": "",
       "children": [
        "IPY_MODEL_80c3670477b149fda5d83803a38ec437",
        "IPY_MODEL_76c5b66588c941faa34f5ffffe4f887e"
       ],
       "layout": "IPY_MODEL_6323562cb2334f9a821829d08c02322e"
      }
     },
     "f6da5cb75e984dd99fb732a54e571004": {
      "model_module": "@jupyter-widgets/controls",
      "model_module_version": "1.5.0",
      "model_name": "ProgressStyleModel",
      "state": {
       "_model_module": "@jupyter-widgets/controls",
       "_model_module_version": "1.5.0",
       "_model_name": "ProgressStyleModel",
       "_view_count": null,
       "_view_module": "@jupyter-widgets/base",
       "_view_module_version": "1.2.0",
       "_view_name": "StyleView",
       "bar_color": null,
       "description_width": "initial"
      }
     }
    },
    "version_major": 2,
    "version_minor": 0
   }
  }
 },
 "nbformat": 4,
 "nbformat_minor": 4
}
